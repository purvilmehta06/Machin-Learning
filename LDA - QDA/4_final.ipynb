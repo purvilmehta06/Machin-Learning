{
 "cells": [
  {
   "cell_type": "code",
   "execution_count": 1,
   "metadata": {},
   "outputs": [],
   "source": [
    "import pandas as pd\n",
    "import matplotlib.image as mpimg\n",
    "import matplotlib.pyplot as plt\n",
    "import numpy as np\n",
    "import csv\n",
    "\n",
    "dd=pd.read_csv(r\"C:\\Users\\mehta\\ML Codes\\Lab 4\\mnist_train.csv\",index_col='label')\n",
    "number=np.array([np.array(dd.loc[[i]]) for i in range(10)])"
   ]
  },
  {
   "cell_type": "code",
   "execution_count": 2,
   "metadata": {},
   "outputs": [
    {
     "name": "stdout",
     "output_type": "stream",
     "text": [
      "Class  0  is running...\n",
      "Class  1  is running...\n",
      "Class  2  is running...\n",
      "Class  3  is running...\n",
      "Class  4  is running...\n",
      "Class  5  is running...\n",
      "Class  6  is running...\n",
      "Class  7  is running...\n",
      "Class  8  is running...\n",
      "Class  9  is running...\n"
     ]
    }
   ],
   "source": [
    "sigma=np.zeros([10,784,784])\n",
    "mu=np.zeros([10,784])\n",
    "for i in range(10):\n",
    "    print(\"Class \",i,\" is running...\")\n",
    "    mu[i] = np.mean(number[i],axis=0)\n",
    "    sigma[i]=np.cov(number[i].transpose())\n",
    "    \n",
    "        \n",
    "sigma_avg = np.zeros([784,784])\n",
    "for i in range(10):\n",
    "    sigma_avg = sigma_avg + sigma[i]\n",
    "sigma_avg = sigma_avg/10"
   ]
  },
  {
   "cell_type": "code",
   "execution_count": 38,
   "metadata": {},
   "outputs": [],
   "source": [
    "dd=pd.read_csv(r\"C:\\Users\\mehta\\ML Codes\\Lab 4\\mnist_test.csv\",index_col='label')\n",
    "testim=np.array([np.array(dd.loc[[i]]) for i in range(10)])\n",
    "for i in range(10):\n",
    "    for j in range(len(testim[i])):\n",
    "        testim[i][j].reshape(784,1)"
   ]
  },
  {
   "cell_type": "code",
   "execution_count": 50,
   "metadata": {},
   "outputs": [],
   "source": [
    "def getValue(total,testim,mu,sigma,want_to_check,k,i):\n",
    "    return (np.log(total/60000) -(0.5)*(np.matmul(np.matmul((testim[want_to_check][k]-mu).transpose(),np.linalg.pinv(sigma)),(testim[want_to_check][k]-mu))))"
   ]
  },
  {
   "cell_type": "code",
   "execution_count": 55,
   "metadata": {},
   "outputs": [
    {
     "name": "stdout",
     "output_type": "stream",
     "text": [
      "Class QDA     LDA\n",
      "0 :   100.0    100.0\n",
      "1 :   90.0    90.0\n",
      "2 :   90.0    60.0\n",
      "3 :   70.0    80.0\n",
      "4 :   100.0    90.0\n",
      "5 :   70.0    100.0\n",
      "6 :   100.0    80.0\n",
      "7 :   100.0    100.0\n",
      "8 :   90.0    100.0\n",
      "9 :   80.0    90.0\n"
     ]
    }
   ],
   "source": [
    "print(\"Class\",\"QDA\",\"     LDA\")\n",
    "total_image = 10\n",
    "for want_to_check in range(10):\n",
    "    cnt=0\n",
    "    cnt1=0\n",
    "    for k in range(total_image):\n",
    "        ans=-10000000.0\n",
    "        ans1=-10000000.0\n",
    "        k_ind=-1\n",
    "        k_ind1=-1\n",
    "        for i in range(10):\n",
    "            val = getValue(len(number[i]),testim,mu[i],sigma[i],want_to_check,k,i)\n",
    "            val1 = getValue(len(number[i]),testim,mu[i],sigma_avg,want_to_check,k,i)\n",
    "            if val>ans:\n",
    "                ans=val\n",
    "                k_ind=i\n",
    "            if val1>ans1:\n",
    "                ans1=val1\n",
    "                k_ind1=i\n",
    "\n",
    "        if(k_ind==want_to_check):\n",
    "            cnt = cnt +1\n",
    "        if(k_ind1==want_to_check):\n",
    "            cnt1 = cnt1 +1\n",
    "\n",
    "    print(want_to_check,\":  \",(cnt*100)/total_image,\"   \",(cnt1*100)/total_image)"
   ]
  }
 ],
 "metadata": {
  "kernelspec": {
   "display_name": "Python 3",
   "language": "python",
   "name": "python3"
  },
  "language_info": {
   "codemirror_mode": {
    "name": "ipython",
    "version": 3
   },
   "file_extension": ".py",
   "mimetype": "text/x-python",
   "name": "python",
   "nbconvert_exporter": "python",
   "pygments_lexer": "ipython3",
   "version": "3.7.3"
  }
 },
 "nbformat": 4,
 "nbformat_minor": 2
}
