{
 "cells": [
  {
   "cell_type": "code",
   "execution_count": 2,
   "metadata": {},
   "outputs": [],
   "source": [
    "import numpy as np\n",
    "import pandas as pd\n",
    "import random as rd\n",
    "import matplotlib.pyplot as plt\n",
    "from mpl_toolkits.mplot3d import Axes3D\n",
    "data = pd.read_csv(r\"C:\\Users\\mehta\\ML Codes\\Lab 1\\data_for_Problem1.csv\")\n",
    "x = np.array(data['x'])\n",
    "y = np.array(data['y'])"
   ]
  },
  {
   "cell_type": "code",
   "execution_count": 3,
   "metadata": {},
   "outputs": [],
   "source": [
    "x = (x-np.mean(x))/np.std(x)"
   ]
  },
  {
   "cell_type": "code",
   "execution_count": 4,
   "metadata": {},
   "outputs": [
    {
     "name": "stdout",
     "output_type": "stream",
     "text": [
      "23.718085106382993 -6.866995447255377\n"
     ]
    }
   ],
   "source": [
    "iteration = 10000\n",
    "theta_0 = np.zeros(iteration+1)\n",
    "theta_0[0] = 50\n",
    "theta_1 = np.zeros(iteration+1)\n",
    "theta_1[0] = 20\n",
    "alpha = 0.001\n",
    "x= x.reshape((len(x),1))\n",
    "y= y.reshape((len(x),1))\n",
    "m = len(x)\n",
    "for i in range(iteration):\n",
    "    s=0\n",
    "    s1=0\n",
    "    for j in range(m):\n",
    "        s = s + ((y[j] - (theta_0[i] + theta_1[i]*x[j]))*(-1))\n",
    "        s1 = s1 + ((y[j] - (theta_0[i] + theta_1[i]*x[j]))*(-x[j]))\n",
    "        \n",
    "    s1=s1\n",
    "    s=s\n",
    "    theta_0[i+1]=theta_0[i] - (alpha*s)\n",
    "    theta_1[i+1]=theta_1[i] - (alpha*s1)\n",
    "print(theta_0[iteration],theta_1[iteration])"
   ]
  },
  {
   "cell_type": "code",
   "execution_count": 5,
   "metadata": {},
   "outputs": [
    {
     "data": {
      "text/plain": [
       "'0.0000000168'"
      ]
     },
     "execution_count": 5,
     "metadata": {},
     "output_type": "execute_result"
    }
   ],
   "source": [
    "theta = 10\n",
    "alpha = 0.01\n",
    "for i in range(1000):\n",
    "    theta = theta - (alpha*(2*theta))\n",
    "'{0:.10f}'.format(theta)"
   ]
  },
  {
   "cell_type": "code",
   "execution_count": 6,
   "metadata": {},
   "outputs": [
    {
     "name": "stdout",
     "output_type": "stream",
     "text": [
      "0.0000000168 0.0000000168\n"
     ]
    }
   ],
   "source": [
    "theta1 = 10\n",
    "theta2 = 10\n",
    "alpha = 0.01\n",
    "for i in range(1000):\n",
    "    theta1 = theta1 - (alpha*(2*theta1))\n",
    "    theta2 = theta2 - (alpha*(2*theta2))\n",
    "print('{0:.10f}'.format(theta1),'{0:.10f}'.format(theta2))"
   ]
  },
  {
   "cell_type": "code",
   "execution_count": 7,
   "metadata": {},
   "outputs": [
    {
     "data": {
      "text/plain": [
       "'1.0000000151'"
      ]
     },
     "execution_count": 7,
     "metadata": {},
     "output_type": "execute_result"
    }
   ],
   "source": [
    "theta = 10\n",
    "alpha = 0.01\n",
    "for i in range(1000):\n",
    "    theta = theta - (alpha*(2*(theta-1)))\n",
    "'{0:.10f}'.format(theta)"
   ]
  },
  {
   "cell_type": "code",
   "execution_count": 8,
   "metadata": {},
   "outputs": [
    {
     "name": "stdout",
     "output_type": "stream",
     "text": [
      "1.0000000000 1.0000000000\n"
     ]
    }
   ],
   "source": [
    "theta1 = 10\n",
    "theta2 = 10\n",
    "alpha = 0.01\n",
    "for i in range(1000):\n",
    "    theta1 = theta1 - (alpha*(4*(theta1-1)))\n",
    "    theta2 = theta2 - (alpha*(4*(theta2-1)))\n",
    "print('{0:.10f}'.format(theta1),'{0:.10f}'.format(theta2))"
   ]
  },
  {
   "cell_type": "code",
   "execution_count": 9,
   "metadata": {},
   "outputs": [
    {
     "name": "stdout",
     "output_type": "stream",
     "text": [
      "23.874386474720527 -6.711203986205528\n"
     ]
    }
   ],
   "source": [
    "limit = 1000\n",
    "theta_0 = np.zeros(limit+1)\n",
    "theta_0[0] = 50\n",
    "theta_1 = np.zeros(limit+1)\n",
    "theta_0[0] = 20\n",
    "alpha = 0.001\n",
    "for i in range(limit):\n",
    "    j = rd.randint(0,m-1)\n",
    "    s = ((y[j] - (theta_0[j] + theta_1[j]*x[j]))*(-1))\n",
    "    s1 = ((y[j] - (theta_0[j] + theta_1[j]*x[j]))*(-x[j]))\n",
    "    theta_0[i+1]=theta_0[i] - (alpha*s)\n",
    "    theta_1[i+1]=theta_1[i] - (alpha*s1)\n",
    "print(theta_0[limit],theta_1[limit])"
   ]
  },
  {
   "cell_type": "code",
   "execution_count": 10,
   "metadata": {},
   "outputs": [
    {
     "name": "stdout",
     "output_type": "stream",
     "text": [
      "0.0 0.0\n",
      "Total Iteration : 2\n"
     ]
    }
   ],
   "source": [
    "alpha = 0.75\n",
    "theta1 = 10\n",
    "theta2 = 10\n",
    "error = 100\n",
    "i=0\n",
    "while 1:\n",
    "    alpha = alpha - (-0.5*(1-(2*alpha)))\n",
    "    c=theta1 \n",
    "    d=theta2\n",
    "    theta1 = theta1 - alpha*(2*theta1)\n",
    "    theta2 = theta2 - alpha*(2*theta2)\n",
    "    i=i+1\n",
    "    if (abs(theta1-c)<0.0001 and abs(theta2-d)<0.0001):\n",
    "        break\n",
    "print(theta1,theta2)\n",
    "print(\"Total Iteration : {}\".format(i))"
   ]
  },
  {
   "cell_type": "code",
   "execution_count": 11,
   "metadata": {},
   "outputs": [
    {
     "name": "stdout",
     "output_type": "stream",
     "text": [
      "0.0\n",
      "Total Iteration : 2\n"
     ]
    }
   ],
   "source": [
    "alpha = 0.75\n",
    "theta = 10\n",
    "error = 100\n",
    "i=0\n",
    "while 1:\n",
    "    alpha = alpha - (-0.5*(1-(2*alpha)))\n",
    "    c=theta\n",
    "    theta = theta - alpha*(2*theta)\n",
    "    i=i+1\n",
    "    if (abs(theta-c)<0.0001):\n",
    "        break\n",
    "print(theta)\n",
    "print(\"Total Iteration : {}\".format(i))"
   ]
  },
  {
   "cell_type": "code",
   "execution_count": 12,
   "metadata": {},
   "outputs": [
    {
     "name": "stdout",
     "output_type": "stream",
     "text": [
      "1.0\n",
      "Total Iteration : 2\n"
     ]
    }
   ],
   "source": [
    "alpha = 0.75\n",
    "theta = 10\n",
    "i=0\n",
    "while 1:\n",
    "    alpha = alpha - (-0.5*(1-(2*alpha)))\n",
    "    c=theta\n",
    "    theta = theta - (alpha*(2*theta-2))\n",
    "    i=i+1\n",
    "    if (abs(theta-c)<0.0001):\n",
    "        break\n",
    "print(theta)\n",
    "print(\"Total Iteration : {}\".format(i))"
   ]
  },
  {
   "cell_type": "code",
   "execution_count": 6,
   "metadata": {},
   "outputs": [
    {
     "name": "stdout",
     "output_type": "stream",
     "text": [
      "[1.]\n",
      "[1.01201924]\n",
      "23.718085106383004 -6.866995447255432\n",
      "Total Iteration : 2\n"
     ]
    }
   ],
   "source": [
    "alpha = 60\n",
    "total =0\n",
    "theta_0 = np.zeros(100000)\n",
    "theta_0[0] = 50\n",
    "theta_1 = np.zeros(100000)\n",
    "theta_0[0] = 20\n",
    "i=-1\n",
    "while (i<=1000):\n",
    "    s=0\n",
    "    s1=0\n",
    "    i=i+1\n",
    "    for j in range(m):\n",
    "        s = s + ((y[j] - (theta_0[i] + theta_1[i]*x[j]))*(-1))\n",
    "        s1 = s1 + ((y[j] - (theta_0[i] + theta_1[i]*x[j]))*(-x[j]))\n",
    "        \n",
    "    s1=s1/m\n",
    "    s=s/m\n",
    "    \n",
    "    fsum=0\n",
    "    fsum2=0\n",
    "    for j in range(m):\n",
    "        fsum = fsum + (y[j] - theta_0[i] + alpha*s - theta_1[i]*x[j] + alpha*s1*x[j])*(s + s1*x[j])\n",
    "        fsum2 = fsum2 + (s + s1*x[j])*(s + s1*x[j])\n",
    "        \n",
    "    alpha = alpha - (fsum/fsum2)\n",
    "    total = total +1;\n",
    "    print (alpha)\n",
    "    theta_0[i+1]=theta_0[i] - (alpha*s)\n",
    "    theta_1[i+1]=theta_1[i] - (alpha*s1)\n",
    "    if (alpha*s<0.001 and alpha*s1<0.001):\n",
    "        break\n",
    "        \n",
    "print(theta_0[i],theta_1[i])\n",
    "print(\"Total Iteration : {}\".format(total))"
   ]
  },
  {
   "cell_type": "code",
   "execution_count": null,
   "metadata": {},
   "outputs": [],
   "source": []
  }
 ],
 "metadata": {
  "kernelspec": {
   "display_name": "Python 3",
   "language": "python",
   "name": "python3"
  },
  "language_info": {
   "codemirror_mode": {
    "name": "ipython",
    "version": 3
   },
   "file_extension": ".py",
   "mimetype": "text/x-python",
   "name": "python",
   "nbconvert_exporter": "python",
   "pygments_lexer": "ipython3",
   "version": "3.7.3"
  }
 },
 "nbformat": 4,
 "nbformat_minor": 2
}
